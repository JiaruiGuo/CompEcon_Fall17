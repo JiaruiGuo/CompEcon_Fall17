{
 "cells": [
  {
   "cell_type": "code",
   "execution_count": 1,
   "metadata": {
    "collapsed": true
   },
   "outputs": [],
   "source": [
    "import ar1_approx as ar1\n",
    "import numpy as np\n",
    "import firm\n",
    "from scipy import stats\n",
    "import numba\n",
    "import firm_exte_fina as firm2\n",
    "import scipy"
   ]
  },
  {
   "cell_type": "code",
   "execution_count": 2,
   "metadata": {
    "collapsed": true
   },
   "outputs": [],
   "source": [
    "alpha=0.699\n",
    "delta=0.15\n",
    "psi=0.1647\n",
    "beta=0.95\n",
    "w=0.7\n",
    "h=6.616\n",
    "r=1/beta-1\n",
    "sigma_z=0.857\n",
    "rho=0.111\n",
    "phi=0.1\n",
    "theta1=[alpha,psi,rho,sigma_z]\n",
    "theta2=[alpha,psi,rho,sigma_z,phi]\n",
    "num_sample=1000\n",
    "z_grid_size=9\n",
    "num_sigma = 4\n",
    "\n",
    "mu=0\n",
    "num_draws=10000\n",
    "moment_d1=np.array([0.03,0.24,0.4,0.25,3.0])\n",
    "moment_d2=np.array([0.03,0.24,0.4,0.25,3.0,0.25])\n",
    "u = np.random.uniform(size=[num_sample,num_draws])"
   ]
  },
  {
   "cell_type": "code",
   "execution_count": 3,
   "metadata": {
    "collapsed": true
   },
   "outputs": [],
   "source": [
    "@numba.jit\n",
    "def sim_markov(z_grid, pi, num_draws,num_sample,u):\n",
    "    # draw some random numbers on [0, 1]\n",
    "    \n",
    "\n",
    "    # Do simulations\n",
    "    z_discrete = np.empty([num_sample,num_draws])  # this will be a vector of values \n",
    "    # we land on in the discretized grid for z\n",
    "    N = z_grid.shape[0]\n",
    "    oldind = np.random.randint(0,N,size=num_sample) # set initial value to median of grid\n",
    "    z_discrete[:,0] = z_grid[oldind]\n",
    "    z_ind=np.zeros([num_sample,num_draws])\n",
    "    z_ind[:,0]=oldind\n",
    "    for j in range(num_sample):\n",
    "        oi=oldind[j]\n",
    "        for i in range(1, num_draws):\n",
    "            sum_p = 0\n",
    "            ind = 0\n",
    "            while sum_p < u[j,i]:\n",
    "                sum_p = sum_p + pi[ind, oi]\n",
    "#             print('inds =  ', ind, oldind)\n",
    "                ind += 1\n",
    "            if ind > 0:\n",
    "                ind -= 1\n",
    "            z_discrete[j,i] = z_grid[ind]\n",
    "            z_ind[j,i]=ind\n",
    "            oi = ind\n",
    "                            \n",
    "    return z_discrete,z_ind"
   ]
  },
  {
   "cell_type": "code",
   "execution_count": 4,
   "metadata": {
    "collapsed": true
   },
   "outputs": [],
   "source": [
    "\n",
    "z_grid_R=np.ones(z_grid_size)\n",
    "step = (num_sigma * sigma_z) / (z_grid_size / 2)\n",
    "pi_R, z_grid = ar1.rouwen(rho, mu, step, z_grid_size)\n",
    "z_discrete_R,z_ind= sim_markov(z_grid_R, pi_R, num_draws,num_sample,u)\n",
    "z_grid_R=np.exp(z_grid)"
   ]
  },
  {
   "cell_type": "code",
   "execution_count": 5,
   "metadata": {
    "collapsed": true
   },
   "outputs": [],
   "source": [
    "def data_moments(theta,*params):\n",
    "    theta[0]=alpha\n",
    "    theta[1]=psi\n",
    "    theta[2]=rho\n",
    "    theta[3]=sigma_z\n",
    "    r,delta,num_sample,num_draws,u=params\n",
    "    z_grid_size=9\n",
    "    mu=0\n",
    "    z_grid_R=np.ones(z_grid_size)\n",
    "    step = (num_sigma * sigma_z) / (z_grid_size / 2)\n",
    "    pi_R, z_grid = ar1.rouwen(rho, mu, step, z_grid_size)\n",
    "    z_discrete_R,z_ind= sim_markov(z_grid_R, pi_R, num_draws,num_sample,u)\n",
    "    z_grid_R=np.exp(z_grid)\n",
    "    #find firm solution\n",
    "    F,e,V=firm.firm_sol(alpha=alpha,delta=delta,psi=psi,r=r,z=z_grid_R,pi=pi_R)\n",
    "    k_grid=F['kvec']\n",
    "    k_grid_size=k_grid.shape[0]\n",
    "    PF=F['PF']\n",
    "    #create matrix containing index of k's, and generate initial k \n",
    "    k_ind=np.zeros([num_sample,num_draws])\n",
    "    k_ind[:,0]=np.random.randint(0,k_grid_size,size=num_sample)\n",
    "    #convert indice for k and z to integers for latter computation\n",
    "    zi=[int(a) for a in np.nditer(z_ind)]\n",
    "    z_index=np.matrix(zi).reshape(num_sample,num_draws)\n",
    "    ki=[int(a) for a in np.nditer(k_ind)]\n",
    "    k_index=np.matrix(ki).reshape(num_sample,num_draws)#only z_index and k_index are used\n",
    "    \n",
    "    #create matrice containg samples\n",
    "    k_sample=np.zeros([num_sample,num_draws])\n",
    "    k_sample[:,0]=list(k_grid[k_index[:,0]])\n",
    "    v_sample=np.zeros([num_sample,num_draws])\n",
    "    v_sample[:,0]=[V[i] for i in list(zip(np.array(z_index[:,0]),np.array(k_index[:,0])))]\n",
    "    z_sample=[z_grid_R[i] for i in z_index]\n",
    "    z_sample=np.matrix(np.array(z_sample)).reshape(1000,10000)\n",
    "    #filling sample space for k,v\n",
    "    p=1\n",
    "    while p<num_draws:\n",
    "        a=[PF[i] for i in list(zip(np.array(z_index[:,p-1]),np.array(k_index[:,p-1])))]#find position of optimal k \n",
    "        # from policy function\n",
    "        b=[k_grid[i] for i in a] \n",
    "        k_sample[:,p]=b#put k' at each period into matrix for k\n",
    "        k_index[:,p]=a #record indice for k' used as k at next period\n",
    "        c=[V[i] for i in list(zip(np.array(z_index[:,p-1]),np.array(k_index[:,p-1])))]\n",
    "        v_sample[:,p-1]=c #getting optimal firm value\n",
    "        p+=1\n",
    "    # data moments    \n",
    "    I=k_sample[:,1:10000]-(1-delta)*k_sample[:,0:9999]\n",
    "    op=np.multiply(z_sample,k_sample**alpha)\n",
    "    I_K=I/k_sample[:,0:9999]\n",
    "    q=v_sample/k_sample\n",
    "    op_k=op/k_sample\n",
    "    #calculate serial correlation\n",
    "    sc_sample=np.ones(I_K.shape[0])\n",
    "    for i in range(I_K.shape[0]):\n",
    "        sc_sample[i]=stats.pearsonr(I_K[i,9498:9998],I_K[i,9499:9999])[0]\n",
    "    sc=sc_sample.sum()/len(sc_sample)\n",
    "    #calculate regression coefficients\n",
    "    beta=np.zeros([500,3])\n",
    "    for i in range(I_K.shape[0]):\n",
    "        x=np.transpose(np.row_stack((np.ones(500),q[i,9498:9998],op_k[i,9499:9999])))\n",
    "        y=I_K[i,9498:9998]\n",
    "        beta[i:]=np.dot(np.dot(np.linalg.inv(np.dot(np.transpose(x),x)),np.transpose(x)),y)\n",
    "        B=beta.sum(axis=0)/beta.shape[0]\n",
    "    \n",
    "    #standard deviation for profit/k    \n",
    "    std=np.sqrt(np.var(op_k[:,9498:9998],axis=1).sum())/num_sample\n",
    "    average_q=v_sample[:,9498:9998].sum()/k_sample[:,9498:9998].sum()\n",
    "    return B[1],B[2],sc, std,average_q"
   ]
  },
  {
   "cell_type": "code",
   "execution_count": 6,
   "metadata": {
    "collapsed": true
   },
   "outputs": [],
   "source": [
    "def data_moments2(theta,*params):\n",
    "    theta[0]=alpha\n",
    "    theta[1]=psi\n",
    "    theta[2]=rho\n",
    "    theta[3]=sigma_z\n",
    "    theta[4]=phi\n",
    "    r,delta,num_sample,num_draws,u=params\n",
    "    z_grid_size=9\n",
    "    mu=0\n",
    "    z_grid_R=np.ones(z_grid_size)\n",
    "    step = (num_sigma * sigma_z) / (z_grid_size / 2)\n",
    "    pi_R, z_grid = ar1.rouwen(rho, mu, step, z_grid_size)\n",
    "    z_discrete_R,z_ind= sim_markov(z_grid_R, pi_R, num_draws,num_sample,u)\n",
    "    z_grid_R=np.exp(z_grid)\n",
    "    #find firm solution\n",
    "    F,e,V,exter=firm2.firm_sol(alpha=alpha,delta=delta,psi=psi,r=r,z=z_grid_R,pi=pi_R,phi=phi)\n",
    "    k_grid=F['kvec']\n",
    "    k_grid_size=k_grid.shape[0]\n",
    "    PF=F['PF']\n",
    "    #create matrix containing index of k's, and generate initial k \n",
    "    k_ind=np.zeros([num_sample,num_draws])\n",
    "    k_ind[:,0]=np.random.randint(0,k_grid_size,size=num_sample)\n",
    "    #convert indice for k and z to integers for latter computation\n",
    "    zi=[int(a) for a in np.nditer(z_ind)]\n",
    "    z_index=np.matrix(zi).reshape(num_sample,num_draws)\n",
    "    ki=[int(a) for a in np.nditer(k_ind)]\n",
    "    k_index=np.matrix(ki).reshape(num_sample,num_draws)#only z_index and k_index are used\n",
    "    \n",
    "    #create matrice containg samples\n",
    "    k_sample=np.zeros([num_sample,num_draws])\n",
    "    k_sample[:,0]=list(k_grid[k_index[:,0]])\n",
    "    v_sample=np.zeros([num_sample,num_draws])\n",
    "    v_sample[:,0]=[V[i] for i in list(zip(np.array(z_index[:,0]),np.array(k_index[:,0])))]\n",
    "    z_sample=[z_grid_R[i] for i in z_index]\n",
    "    z_sample=np.matrix(np.array(z_sample)).reshape(1000,10000)\n",
    "    ex_fin_sample=np.zeros([num_sample,num_draws])\n",
    "    #filling sample space for k,v\n",
    "    p=1\n",
    "    while p<num_draws:\n",
    "        a=[PF[i] for i in list(zip(np.array(z_index[:,p-1]),np.array(k_index[:,p-1])))]#find position of optimal k \n",
    "        # from policy function\n",
    "        b=[k_grid[i] for i in a] \n",
    "        k_sample[:,p]=b#put k' at each period into matrix for k\n",
    "        k_index[:,p]=a #record indice for k' used as k at next period\n",
    "        c=[V[i] for i in list(zip(np.array(z_index[:,p]),np.array(k_index[:,p])))]\n",
    "        v_sample[:,p-1]=c #getting optimal firm value\n",
    "        d=[exter[i] for i in list(zip(np.array(z_index[:,p]),np.array(k_index[:,p-1]),np.array(k_index[:,p])))]\n",
    "        ex_fin_sample[:,p-1]=d\n",
    "        p+=1\n",
    "    \n",
    "    # data moments    \n",
    "    I=k_sample[:,1:10000]-(1-delta)*k_sample[:,0:9999]\n",
    "    op=np.multiply(z_sample,k_sample**alpha)\n",
    "    I_K=I/k_sample[:,0:9999]\n",
    "    q=v_sample/k_sample\n",
    "    op_k=op/k_sample\n",
    "    #calculate serial correlation\n",
    "    sc_sample=np.ones(I_K.shape[0])\n",
    "    for i in range(I_K.shape[0]):\n",
    "        sc_sample[i]=stats.pearsonr(I_K[i,9498:9998],I_K[i,9499:9999])[0]\n",
    "    sc=sc_sample.sum()/len(sc_sample)\n",
    "    #calculate regression coefficients\n",
    "    beta=np.zeros([500,3])\n",
    "    for i in range(I_K.shape[0]):\n",
    "        x=np.transpose(np.row_stack((np.ones(500),q[i,9498:9998],op_k[i,9499:9999])))\n",
    "        y=I_K[i,9498:9998]\n",
    "        beta[i:]=np.dot(np.dot(np.linalg.inv(np.dot(np.transpose(x),x)),np.transpose(x)),y)\n",
    "        B=beta.sum(axis=0)/beta.shape[0]\n",
    "    \n",
    "    #standard deviation for profit/k    \n",
    "    std=np.sqrt(np.var(op_k[:,9498:9998],axis=1).sum())/num_sample\n",
    "    percentage_ex_fin=np.mean(ex_fin_sample[:,9498:9998].sum(axis=1)/500)\n",
    "    average_q=v_sample[:,9498:9998].sum()/k_sample[:,9498:9998].sum()\n",
    "    return B[1],B[2],sc, std,average_q,percentage_ex_fin"
   ]
  },
  {
   "cell_type": "code",
   "execution_count": 42,
   "metadata": {
    "collapsed": true
   },
   "outputs": [],
   "source": [
    "def moment_difference(theta,*params):\n",
    "    moments_d=moment_d1\n",
    "    moments_s=data_moments(theta,r,delta,num_sample,num_draws,u)\n",
    "    moments_s=np.array(list(moments_s))\n",
    "    difference=np.dot(np.dot(np.transpose(moments_d-moments_s),np.identity(moments_d.shape[0])),moments_d-moments_s)\n",
    "    \n",
    "    return difference"
   ]
  },
  {
   "cell_type": "code",
   "execution_count": 43,
   "metadata": {
    "collapsed": true
   },
   "outputs": [],
   "source": [
    "def moment_difference2(theta,*params):\n",
    "    moments_d=moment_d2\n",
    "    moments_s=data_moments2(theta,r,delta,num_sample,num_draws,u)\n",
    "    moments_s=np.array(list(moments_s))\n",
    "    difference=np.dot(np.dot(np.transpose(moments_d-moments_s),np.identity(moments_d2.shape[0])),moments_d-moments_s)\n",
    "    \n",
    "    return difference"
   ]
  },
  {
   "cell_type": "code",
   "execution_count": null,
   "metadata": {
    "collapsed": true
   },
   "outputs": [],
   "source": [
    "bound=[(-1, 1), (-1, 1), (-1,1),(-5,5)]\n",
    "x=scipy.optimize.differential_evolution(moment_difference,bounds=bound,args=[moment_d1,r,delta,num_sample,num_draws,u])"
   ]
  },
  {
   "cell_type": "code",
   "execution_count": null,
   "metadata": {
    "collapsed": true
   },
   "outputs": [],
   "source": [
    "bound=[(-1, 1), (-1, 1), (-1,1),(-5,5),(-1,1)]\n",
    "x=scipy.optimize.differential_evolution(moment_difference2,bounds=bound,args=[moment_d2,r,delta,num_sample,num_draws,u])"
   ]
  },
  {
   "cell_type": "code",
   "execution_count": null,
   "metadata": {
    "collapsed": true
   },
   "outputs": [],
   "source": [
    "moments_s1_prime=np.zeros([len(theta1),len(moments_s1)])\n",
    "theta1_prime=np.row_stack([theta1,theta1,theta1,theta1])+np.identity(len(theta1))\n",
    "\n",
    "for i in range(len(theta1)):\n",
    "\n",
    "    moments_s1_prime[i,:]=np.array(list(data_moments(theta1_prime[i,:],r,delta,num_sample,num_draws,u)))\n",
    "var1=np.dot(np.dot((moments_s1_prime-moments_s1),np.identity(len(moments_s1))),np.transpose(moments_s1_prime-moments_s1)).diagonal()"
   ]
  },
  {
   "cell_type": "code",
   "execution_count": null,
   "metadata": {
    "collapsed": true
   },
   "outputs": [],
   "source": [
    "moments_s2_prime=np.zeros([len(theta2),len(moments_s2)])\n",
    "theta2_prime=np.row_stack([theta2,theta2,theta2,theta2,theta2])+np.identity(len(theta2))\n",
    "for i in range(len(theta2)):\n",
    "\n",
    "    moments_s2_prime[i,:]=np.array(list(data_moments2(theta2_prime[i,:],r,delta,num_sample,num_draws,u)))\n",
    "    \n",
    "var2=np.dot(np.dot((moments_s2_prime-moments_s2),np.identity(len(moments_s2))),np.transpose(moments_s2_prime-moments_s2)).diagonal()"
   ]
  }
 ],
 "metadata": {
  "kernelspec": {
   "display_name": "Python 3",
   "language": "python",
   "name": "python3"
  },
  "language_info": {
   "codemirror_mode": {
    "name": "ipython",
    "version": 3
   },
   "file_extension": ".py",
   "mimetype": "text/x-python",
   "name": "python",
   "nbconvert_exporter": "python",
   "pygments_lexer": "ipython3",
   "version": "3.6.1"
  }
 },
 "nbformat": 4,
 "nbformat_minor": 2
}
