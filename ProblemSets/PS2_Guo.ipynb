{
 "cells": [
  {
   "cell_type": "code",
   "execution_count": 4,
   "metadata": {
    "collapsed": true
   },
   "outputs": [],
   "source": [
    "#Q1\n",
    "def three_number_summary(a_list):\n",
    "    print('max=',max(a_list),'min=',min(a_list),'average=',sum(a_list)/len(a_list))\n",
    "    return\n"
   ]
  },
  {
   "cell_type": "code",
   "execution_count": 2,
   "metadata": {},
   "outputs": [
    {
     "name": "stdout",
     "output_type": "stream",
     "text": [
      "5 1 3.0\n"
     ]
    }
   ],
   "source": [
    "three_number_summary([1,2,3,4,5])"
   ]
  },
  {
   "cell_type": "code",
   "execution_count": 1,
   "metadata": {},
   "outputs": [
    {
     "ename": "NameError",
     "evalue": "name 'three_number_summary' is not defined",
     "output_type": "error",
     "traceback": [
      "\u001b[1;31m---------------------------------------------------------------------------\u001b[0m",
      "\u001b[1;31mNameError\u001b[0m                                 Traceback (most recent call last)",
      "\u001b[1;32m<ipython-input-1-af27d098f9a7>\u001b[0m in \u001b[0;36m<module>\u001b[1;34m()\u001b[0m\n\u001b[1;32m----> 1\u001b[1;33m \u001b[0mthree_number_summary\u001b[0m\u001b[1;33m(\u001b[0m\u001b[1;33m[\u001b[0m\u001b[1;36m1\u001b[0m\u001b[1;33m,\u001b[0m\u001b[1;36m2\u001b[0m\u001b[1;33m,\u001b[0m\u001b[1;36m3\u001b[0m\u001b[1;33m,\u001b[0m\u001b[1;36m4\u001b[0m\u001b[1;33m,\u001b[0m\u001b[1;36m7\u001b[0m\u001b[1;33m,\u001b[0m\u001b[1;36m8\u001b[0m\u001b[1;33m,\u001b[0m\u001b[1;36m9\u001b[0m\u001b[1;33m]\u001b[0m\u001b[1;33m)\u001b[0m\u001b[1;33m\u001b[0m\u001b[0m\n\u001b[0m\u001b[0;32m      2\u001b[0m \u001b[0mtns\u001b[0m\u001b[1;33m=\u001b[0m \u001b[1;32mlambda\u001b[0m \u001b[0ma\u001b[0m\u001b[1;33m:\u001b[0m \u001b[0mmax\u001b[0m\u001b[1;33m(\u001b[0m\u001b[0ma\u001b[0m\u001b[1;33m)\u001b[0m\u001b[1;33m,\u001b[0m\u001b[0mmin\u001b[0m\u001b[1;33m(\u001b[0m\u001b[0ma\u001b[0m\u001b[1;33m)\u001b[0m\u001b[1;33m,\u001b[0m\u001b[1;33m(\u001b[0m\u001b[0msum\u001b[0m\u001b[1;33m(\u001b[0m\u001b[0ma\u001b[0m\u001b[1;33m)\u001b[0m\u001b[1;33m/\u001b[0m\u001b[0mlen\u001b[0m\u001b[1;33m(\u001b[0m\u001b[0ma\u001b[0m\u001b[1;33m)\u001b[0m\u001b[1;33m)\u001b[0m\u001b[1;33m\u001b[0m\u001b[0m\n",
      "\u001b[1;31mNameError\u001b[0m: name 'three_number_summary' is not defined"
     ]
    }
   ],
   "source": [
    "three_number_summary([1,2,3,4,7,8,9])"
   ]
  },
  {
   "cell_type": "code",
   "execution_count": 12,
   "metadata": {},
   "outputs": [
    {
     "name": "stdout",
     "output_type": "stream",
     "text": [
      "False\n",
      "False\n",
      "True\n",
      "False\n",
      "True\n"
     ]
    }
   ],
   "source": [
    "#Q2\n",
    "#number\n",
    "num=12\n",
    "num1=num\n",
    "num1+=1\n",
    "a=(num1==num)\n",
    "print('number mutability',a)\n",
    "#string\n",
    "word='computational'\n",
    "word1=word\n",
    "word1+='a'\n",
    "b=(word1==word)\n",
    "print('string mutability',b)\n",
    "#list\n",
    "l=[1,2,3,4]\n",
    "l1=l\n",
    "l1.append(1)\n",
    "print('list mutability',l==l1)\n",
    "#tuples\n",
    "tup=(1,2,3,4)\n",
    "tup1=tup\n",
    "tup1+=(1,)\n",
    "print('tuple mutability',tup==tup1)\n",
    "#dictionary\n",
    "dict1={'type':'rpg','brand':'type-moon'}\n",
    "dict2=dict1\n",
    "dict2[type]='a'\n",
    "print('dictionary mutability',dict1==dict2)\n"
   ]
  },
  {
   "cell_type": "code",
   "execution_count": 1,
   "metadata": {
    "collapsed": true
   },
   "outputs": [],
   "source": [
    "#Q3\n",
    "import calculator as cal"
   ]
  },
  {
   "cell_type": "code",
   "execution_count": 2,
   "metadata": {
    "collapsed": true
   },
   "outputs": [],
   "source": [
    "#Let's assume there is a right triangle whose legs are 3cm and 4 cm, use calculaor module to solve for the hypotenuse\n",
    "h=cal.sqrt(cal.pro(3,3)+cal.pro(4,4))\n",
    "print('the hypotunse is ', h)"
   ]
  },
  {
   "cell_type": "code",
   "execution_count": 3,
   "metadata": {},
   "outputs": [
    {
     "data": {
      "text/plain": [
       "5.0"
      ]
     },
     "execution_count": 3,
     "metadata": {},
     "output_type": "execute_result"
    }
   ],
   "source": [
    "h"
   ]
  },
  {
   "cell_type": "code",
   "execution_count": 7,
   "metadata": {},
   "outputs": [
    {
     "name": "stdout",
     "output_type": "stream",
     "text": [
      "[[ 37  14 -32 -10]\n",
      " [-54  -7  58  65]]\n"
     ]
    }
   ],
   "source": [
    "import numpy as np\n",
    "#numpy part Q1\n",
    "A=np.array([[3,-1,4],[1,5,-9]])\n",
    "B=np.array([[2,6,-5,3],[5,-8,9,7],[9,-3,-2,-3]])\n",
    "C=np.dot(A,B)\n",
    "print(C)"
   ]
  },
  {
   "cell_type": "code",
   "execution_count": 8,
   "metadata": {
    "collapsed": true
   },
   "outputs": [],
   "source": [
    "#Q2\n",
    "def calculation(x,y,z):\n",
    "    A=np.array([x,y,z])\n",
    "    C=-np.dot(A,np.dot(A,A))+9*np.dot(A,A)-15*A\n",
    "    return C"
   ]
  },
  {
   "cell_type": "code",
   "execution_count": 9,
   "metadata": {
    "scrolled": true
   },
   "outputs": [
    {
     "data": {
      "text/plain": [
       "array([[0, 0, 0],\n",
       "       [0, 0, 0],\n",
       "       [0, 0, 0]])"
      ]
     },
     "execution_count": 9,
     "metadata": {},
     "output_type": "execute_result"
    }
   ],
   "source": [
    "x=[3,1,4]\n",
    "y=[1,5,9]\n",
    "z=[-5,3,1]\n",
    "calculation(x,y,z)"
   ]
  },
  {
   "cell_type": "code",
   "execution_count": 40,
   "metadata": {
    "collapsed": true
   },
   "outputs": [],
   "source": [
    "#Q5\n",
    "A=np.array([[0,2,4],[1,3,5]])\n",
    "B=np.transpose(np.triu(np.ones(3)*3,0))\n",
    "C=np.diag([-2,-2,-2])"
   ]
  },
  {
   "cell_type": "code",
   "execution_count": 58,
   "metadata": {
    "collapsed": true
   },
   "outputs": [],
   "source": [
    "answer=np.vstack([np.hstack([np.zeros([3,3]),np.transpose(A),np.identity(3)]),np.hstack([A,np.zeros([2,5])]),\n",
    "                           np.hstack([B,np.zeros([3,2]),C])])\n"
   ]
  },
  {
   "cell_type": "code",
   "execution_count": 59,
   "metadata": {},
   "outputs": [
    {
     "data": {
      "text/plain": [
       "array([[ 0.,  0.,  0.,  0.,  1.,  1.,  0.,  0.],\n",
       "       [ 0.,  0.,  0.,  2.,  3.,  0.,  1.,  0.],\n",
       "       [ 0.,  0.,  0.,  4.,  5.,  0.,  0.,  1.],\n",
       "       [ 0.,  2.,  4.,  0.,  0.,  0.,  0.,  0.],\n",
       "       [ 1.,  3.,  5.,  0.,  0.,  0.,  0.,  0.],\n",
       "       [ 3.,  0.,  0.,  0.,  0., -2.,  0.,  0.],\n",
       "       [ 3.,  3.,  0.,  0.,  0.,  0., -2.,  0.],\n",
       "       [ 3.,  3.,  3.,  0.,  0.,  0.,  0., -2.]])"
      ]
     },
     "execution_count": 59,
     "metadata": {},
     "output_type": "execute_result"
    }
   ],
   "source": [
    "answer"
   ]
  },
  {
   "cell_type": "code",
   "execution_count": 1,
   "metadata": {
    "collapsed": true
   },
   "outputs": [],
   "source": [
    "#OOP\n",
    "#Q1\n",
    "class Backpack(object):\n",
    "    def __init__(self,name,color,max_size=5):\n",
    "        self.name=name\n",
    "        self.color=color\n",
    "        self.max_size=max_size\n",
    "        self.contents=[]\n",
    "        \n",
    "    def put(self,item):\n",
    "        self.contents.append(item)\n",
    "        if len(self.contents)>5:\n",
    "            self.contents.remove(item)\n",
    "            print('No Room!')\n",
    "            \n",
    "    def dump(self):\n",
    "        del self.contents[:]\n",
    "      "
   ]
  },
  {
   "cell_type": "code",
   "execution_count": 2,
   "metadata": {
    "collapsed": true
   },
   "outputs": [],
   "source": [
    "def test_backpack():\n",
    "    testpack = Backpack(\"Barry\", \"black\") \n",
    "    if testpack.max_size != 5:\n",
    "        print(\"Wrong default max_size!\")\n",
    "    for item in [\"pencil\", \"pen\", \"paper\", \"computer\"]:\n",
    "        testpack.put(item) \n",
    "    print(testpack.contents)"
   ]
  },
  {
   "cell_type": "code",
   "execution_count": 3,
   "metadata": {
    "scrolled": true
   },
   "outputs": [
    {
     "name": "stdout",
     "output_type": "stream",
     "text": [
      "['pencil', 'pen', 'paper', 'computer']\n"
     ]
    }
   ],
   "source": [
    "test_backpack()\n"
   ]
  },
  {
   "cell_type": "code",
   "execution_count": 4,
   "metadata": {
    "collapsed": true
   },
   "outputs": [],
   "source": [
    "#Q2\n",
    "\n",
    "      \n",
    "\n",
    "      "
   ]
  },
  {
   "cell_type": "code",
   "execution_count": 8,
   "metadata": {
    "collapsed": true
   },
   "outputs": [],
   "source": [
    "class Jetpack(Backpack):\n",
    "    def __init__(self,name,color,max_size=2):\n",
    "        Backpack.__init__(self,name,color,max_size)\n",
    "        self.fuel=10\n",
    "    def fly(self,burned_fuel):\n",
    "        if burned_fuel>self.fuel:\n",
    "                print('Not Enough Fuel')\n",
    "        else:\n",
    "                self.fuel=self.fuel-burned_fuel\n",
    "\n",
    "        \n",
    "      \n",
    "    \n",
    "                \n",
    "        def dump(self):\n",
    "            Backpack.dump(self)\n",
    "            self.fuel=0                \n",
    "        \n",
    "\n",
    "\n"
   ]
  },
  {
   "cell_type": "code",
   "execution_count": 9,
   "metadata": {
    "collapsed": true
   },
   "outputs": [],
   "source": [
    "a=Jetpack('aaa','asdqw')"
   ]
  },
  {
   "cell_type": "code",
   "execution_count": 10,
   "metadata": {},
   "outputs": [
    {
     "name": "stdout",
     "output_type": "stream",
     "text": [
      "Not Enough Fuel\n"
     ]
    }
   ],
   "source": [
    "a.fly(12)"
   ]
  },
  {
   "cell_type": "code",
   "execution_count": null,
   "metadata": {
    "collapsed": true
   },
   "outputs": [],
   "source": []
  }
 ],
 "metadata": {
  "kernelspec": {
   "display_name": "Python 3",
   "language": "python",
   "name": "python3"
  },
  "language_info": {
   "codemirror_mode": {
    "name": "ipython",
    "version": 3
   },
   "file_extension": ".py",
   "mimetype": "text/x-python",
   "name": "python",
   "nbconvert_exporter": "python",
   "pygments_lexer": "ipython3",
   "version": "3.6.1"
  }
 },
 "nbformat": 4,
 "nbformat_minor": 2
}
