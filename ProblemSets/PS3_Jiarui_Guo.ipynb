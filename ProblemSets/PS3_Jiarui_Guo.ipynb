{
 "cells": [
  {
   "cell_type": "code",
   "execution_count": 66,
   "metadata": {
    "collapsed": true
   },
   "outputs": [],
   "source": [
    "import numpy as np\n",
    "import pandas as pd\n",
    "from scipy.optimize import minimize"
   ]
  },
  {
   "cell_type": "code",
   "execution_count": 67,
   "metadata": {
    "scrolled": true
   },
   "outputs": [
    {
     "name": "stdout",
     "output_type": "stream",
     "text": [
      "G:\\Dropbox\\Fall 2017\\ECON 815\\CompEcon_Fall17\\ProblemSets\\PS3\n"
     ]
    }
   ],
   "source": [
    "cd \"G:\\Dropbox\\Fall 2017\\ECON 815\\CompEcon_Fall17\\ProblemSets\\PS3\""
   ]
  },
  {
   "cell_type": "code",
   "execution_count": 68,
   "metadata": {
    "collapsed": true
   },
   "outputs": [],
   "source": [
    "data=pd.read_stata('PS3_data.dta')"
   ]
  },
  {
   "cell_type": "code",
   "execution_count": 69,
   "metadata": {},
   "outputs": [
    {
     "data": {
      "text/html": [
       "<div>\n",
       "<style>\n",
       "    .dataframe thead tr:only-child th {\n",
       "        text-align: right;\n",
       "    }\n",
       "\n",
       "    .dataframe thead th {\n",
       "        text-align: left;\n",
       "    }\n",
       "\n",
       "    .dataframe tbody tr th {\n",
       "        vertical-align: top;\n",
       "    }\n",
       "</style>\n",
       "<table border=\"1\" class=\"dataframe\">\n",
       "  <thead>\n",
       "    <tr style=\"text-align: right;\">\n",
       "      <th></th>\n",
       "      <th>id68</th>\n",
       "      <th>year</th>\n",
       "      <th>intid</th>\n",
       "      <th>relhh</th>\n",
       "      <th>hannhrs</th>\n",
       "      <th>wannhrs</th>\n",
       "      <th>hlabinc</th>\n",
       "      <th>wlabinc</th>\n",
       "      <th>nochild</th>\n",
       "      <th>wrace</th>\n",
       "      <th>...</th>\n",
       "      <th>redpregovinc</th>\n",
       "      <th>hsex</th>\n",
       "      <th>wsex</th>\n",
       "      <th>age</th>\n",
       "      <th>wage</th>\n",
       "      <th>hpersno</th>\n",
       "      <th>wpersno</th>\n",
       "      <th>hyrsed</th>\n",
       "      <th>wyrsed</th>\n",
       "      <th>pce</th>\n",
       "    </tr>\n",
       "  </thead>\n",
       "  <tbody>\n",
       "    <tr>\n",
       "      <th>0</th>\n",
       "      <td>1</td>\n",
       "      <td>1967</td>\n",
       "      <td>1</td>\n",
       "      <td>Head</td>\n",
       "      <td>1200.0</td>\n",
       "      <td>2000.0</td>\n",
       "      <td>NaN</td>\n",
       "      <td>NaN</td>\n",
       "      <td>0</td>\n",
       "      <td>NaN</td>\n",
       "      <td>...</td>\n",
       "      <td>5614.0</td>\n",
       "      <td>1.0</td>\n",
       "      <td>2.0</td>\n",
       "      <td>52.0</td>\n",
       "      <td>46.0</td>\n",
       "      <td>1.0</td>\n",
       "      <td>2.0</td>\n",
       "      <td>8.0</td>\n",
       "      <td>8.0</td>\n",
       "      <td>0.0</td>\n",
       "    </tr>\n",
       "    <tr>\n",
       "      <th>1</th>\n",
       "      <td>2</td>\n",
       "      <td>1967</td>\n",
       "      <td>2</td>\n",
       "      <td>Head</td>\n",
       "      <td>0.0</td>\n",
       "      <td>0.0</td>\n",
       "      <td>NaN</td>\n",
       "      <td>NaN</td>\n",
       "      <td>0</td>\n",
       "      <td>NaN</td>\n",
       "      <td>...</td>\n",
       "      <td>0.0</td>\n",
       "      <td>1.0</td>\n",
       "      <td>2.0</td>\n",
       "      <td>56.0</td>\n",
       "      <td>57.0</td>\n",
       "      <td>1.0</td>\n",
       "      <td>2.0</td>\n",
       "      <td>3.0</td>\n",
       "      <td>3.0</td>\n",
       "      <td>0.0</td>\n",
       "    </tr>\n",
       "    <tr>\n",
       "      <th>2</th>\n",
       "      <td>3</td>\n",
       "      <td>1967</td>\n",
       "      <td>3</td>\n",
       "      <td>Head</td>\n",
       "      <td>0.0</td>\n",
       "      <td>0.0</td>\n",
       "      <td>NaN</td>\n",
       "      <td>NaN</td>\n",
       "      <td>0</td>\n",
       "      <td>NaN</td>\n",
       "      <td>...</td>\n",
       "      <td>0.0</td>\n",
       "      <td>1.0</td>\n",
       "      <td>2.0</td>\n",
       "      <td>77.0</td>\n",
       "      <td>64.0</td>\n",
       "      <td>1.0</td>\n",
       "      <td>2.0</td>\n",
       "      <td>NaN</td>\n",
       "      <td>3.0</td>\n",
       "      <td>0.0</td>\n",
       "    </tr>\n",
       "    <tr>\n",
       "      <th>3</th>\n",
       "      <td>4</td>\n",
       "      <td>1967</td>\n",
       "      <td>4</td>\n",
       "      <td>Head</td>\n",
       "      <td>1560.0</td>\n",
       "      <td>0.0</td>\n",
       "      <td>NaN</td>\n",
       "      <td>NaN</td>\n",
       "      <td>6</td>\n",
       "      <td>1.0</td>\n",
       "      <td>...</td>\n",
       "      <td>3280.0</td>\n",
       "      <td>1.0</td>\n",
       "      <td>2.0</td>\n",
       "      <td>45.0</td>\n",
       "      <td>44.0</td>\n",
       "      <td>1.0</td>\n",
       "      <td>2.0</td>\n",
       "      <td>8.0</td>\n",
       "      <td>5.0</td>\n",
       "      <td>0.0</td>\n",
       "    </tr>\n",
       "    <tr>\n",
       "      <th>4</th>\n",
       "      <td>5</td>\n",
       "      <td>1967</td>\n",
       "      <td>5</td>\n",
       "      <td>Head</td>\n",
       "      <td>2500.0</td>\n",
       "      <td>2000.0</td>\n",
       "      <td>NaN</td>\n",
       "      <td>NaN</td>\n",
       "      <td>3</td>\n",
       "      <td>1.0</td>\n",
       "      <td>...</td>\n",
       "      <td>7900.0</td>\n",
       "      <td>1.0</td>\n",
       "      <td>2.0</td>\n",
       "      <td>24.0</td>\n",
       "      <td>22.0</td>\n",
       "      <td>1.0</td>\n",
       "      <td>2.0</td>\n",
       "      <td>10.0</td>\n",
       "      <td>9.0</td>\n",
       "      <td>0.0</td>\n",
       "    </tr>\n",
       "  </tbody>\n",
       "</table>\n",
       "<p>5 rows × 52 columns</p>\n",
       "</div>"
      ],
      "text/plain": [
       "   id68  year  intid relhh  hannhrs  wannhrs  hlabinc  wlabinc  nochild  \\\n",
       "0     1  1967      1  Head   1200.0   2000.0      NaN      NaN        0   \n",
       "1     2  1967      2  Head      0.0      0.0      NaN      NaN        0   \n",
       "2     3  1967      3  Head      0.0      0.0      NaN      NaN        0   \n",
       "3     4  1967      4  Head   1560.0      0.0      NaN      NaN        6   \n",
       "4     5  1967      5  Head   2500.0   2000.0      NaN      NaN        3   \n",
       "\n",
       "   wrace ...   redpregovinc  hsex  wsex   age  wage  hpersno  wpersno  hyrsed  \\\n",
       "0    NaN ...         5614.0   1.0   2.0  52.0  46.0      1.0      2.0     8.0   \n",
       "1    NaN ...            0.0   1.0   2.0  56.0  57.0      1.0      2.0     3.0   \n",
       "2    NaN ...            0.0   1.0   2.0  77.0  64.0      1.0      2.0     NaN   \n",
       "3    1.0 ...         3280.0   1.0   2.0  45.0  44.0      1.0      2.0     8.0   \n",
       "4    1.0 ...         7900.0   1.0   2.0  24.0  22.0      1.0      2.0    10.0   \n",
       "\n",
       "   wyrsed  pce  \n",
       "0     8.0  0.0  \n",
       "1     3.0  0.0  \n",
       "2     3.0  0.0  \n",
       "3     5.0  0.0  \n",
       "4     9.0  0.0  \n",
       "\n",
       "[5 rows x 52 columns]"
      ]
     },
     "execution_count": 69,
     "metadata": {},
     "output_type": "execute_result"
    }
   ],
   "source": [
    "data.head(5)"
   ]
  },
  {
   "cell_type": "markdown",
   "metadata": {},
   "source": [
    "Part 1 and 2"
   ]
  },
  {
   "cell_type": "code",
   "execution_count": 70,
   "metadata": {
    "collapsed": true
   },
   "outputs": [],
   "source": [
    "data['wperh']=data.hlabinc/data.hannhrs"
   ]
  },
  {
   "cell_type": "code",
   "execution_count": 73,
   "metadata": {
    "collapsed": true
   },
   "outputs": [],
   "source": [
    "data1 = data[pd.notnull(data['wperh'])\\\n",
    "             &pd.notnull(data['hyrsed'])&pd.notnull(data['age'])&pd.notnull(data['hsex'])&pd.notnull(data['hrace'])]\n"
   ]
  },
  {
   "cell_type": "code",
   "execution_count": 100,
   "metadata": {},
   "outputs": [
    {
     "name": "stderr",
     "output_type": "stream",
     "text": [
      "F:\\anaconda\\lib\\site-packages\\ipykernel_launcher.py:1: UserWarning: Boolean Series key will be reindexed to match DataFrame index.\n",
      "  \"\"\"Entry point for launching an IPython kernel.\n"
     ]
    },
    {
     "data": {
      "text/html": [
       "<div>\n",
       "<style>\n",
       "    .dataframe thead tr:only-child th {\n",
       "        text-align: right;\n",
       "    }\n",
       "\n",
       "    .dataframe thead th {\n",
       "        text-align: left;\n",
       "    }\n",
       "\n",
       "    .dataframe tbody tr th {\n",
       "        vertical-align: top;\n",
       "    }\n",
       "</style>\n",
       "<table border=\"1\" class=\"dataframe\">\n",
       "  <thead>\n",
       "    <tr style=\"text-align: right;\">\n",
       "      <th></th>\n",
       "      <th>id68</th>\n",
       "      <th>year</th>\n",
       "      <th>intid</th>\n",
       "      <th>relhh</th>\n",
       "      <th>hannhrs</th>\n",
       "      <th>wannhrs</th>\n",
       "      <th>hlabinc</th>\n",
       "      <th>wlabinc</th>\n",
       "      <th>nochild</th>\n",
       "      <th>wrace</th>\n",
       "      <th>...</th>\n",
       "      <th>wage</th>\n",
       "      <th>hpersno</th>\n",
       "      <th>wpersno</th>\n",
       "      <th>hyrsed</th>\n",
       "      <th>wyrsed</th>\n",
       "      <th>pce</th>\n",
       "      <th>wperh</th>\n",
       "      <th>Black</th>\n",
       "      <th>Hispanic</th>\n",
       "      <th>Other</th>\n",
       "    </tr>\n",
       "  </thead>\n",
       "  <tbody>\n",
       "    <tr>\n",
       "      <th>11161</th>\n",
       "      <td>402</td>\n",
       "      <td>1971</td>\n",
       "      <td>1</td>\n",
       "      <td>Head</td>\n",
       "      <td>1523.0</td>\n",
       "      <td>0.0</td>\n",
       "      <td>62928.707031</td>\n",
       "      <td>NaN</td>\n",
       "      <td>0</td>\n",
       "      <td>1.0</td>\n",
       "      <td>...</td>\n",
       "      <td>48.0</td>\n",
       "      <td>1.0</td>\n",
       "      <td>2.0</td>\n",
       "      <td>12.0</td>\n",
       "      <td>12.0</td>\n",
       "      <td>0.247121</td>\n",
       "      <td>41.318916</td>\n",
       "      <td>True</td>\n",
       "      <td>False</td>\n",
       "      <td>False</td>\n",
       "    </tr>\n",
       "    <tr>\n",
       "      <th>11164</th>\n",
       "      <td>461</td>\n",
       "      <td>1971</td>\n",
       "      <td>4</td>\n",
       "      <td>Head</td>\n",
       "      <td>2010.0</td>\n",
       "      <td>0.0</td>\n",
       "      <td>22660.970703</td>\n",
       "      <td>NaN</td>\n",
       "      <td>0</td>\n",
       "      <td>1.0</td>\n",
       "      <td>...</td>\n",
       "      <td>54.0</td>\n",
       "      <td>1.0</td>\n",
       "      <td>2.0</td>\n",
       "      <td>5.0</td>\n",
       "      <td>5.0</td>\n",
       "      <td>0.247121</td>\n",
       "      <td>11.274115</td>\n",
       "      <td>True</td>\n",
       "      <td>False</td>\n",
       "      <td>False</td>\n",
       "    </tr>\n",
       "    <tr>\n",
       "      <th>11166</th>\n",
       "      <td>1126</td>\n",
       "      <td>1971</td>\n",
       "      <td>8</td>\n",
       "      <td>Head</td>\n",
       "      <td>2860.0</td>\n",
       "      <td>0.0</td>\n",
       "      <td>29337.865234</td>\n",
       "      <td>NaN</td>\n",
       "      <td>1</td>\n",
       "      <td>NaN</td>\n",
       "      <td>...</td>\n",
       "      <td>24.0</td>\n",
       "      <td>1.0</td>\n",
       "      <td>2.0</td>\n",
       "      <td>16.0</td>\n",
       "      <td>12.0</td>\n",
       "      <td>0.247121</td>\n",
       "      <td>10.257995</td>\n",
       "      <td>True</td>\n",
       "      <td>False</td>\n",
       "      <td>False</td>\n",
       "    </tr>\n",
       "    <tr>\n",
       "      <th>11173</th>\n",
       "      <td>284</td>\n",
       "      <td>1971</td>\n",
       "      <td>20</td>\n",
       "      <td>Head</td>\n",
       "      <td>2400.0</td>\n",
       "      <td>0.0</td>\n",
       "      <td>76885.437500</td>\n",
       "      <td>NaN</td>\n",
       "      <td>2</td>\n",
       "      <td>1.0</td>\n",
       "      <td>...</td>\n",
       "      <td>36.0</td>\n",
       "      <td>1.0</td>\n",
       "      <td>2.0</td>\n",
       "      <td>16.0</td>\n",
       "      <td>12.0</td>\n",
       "      <td>0.247121</td>\n",
       "      <td>32.035599</td>\n",
       "      <td>True</td>\n",
       "      <td>False</td>\n",
       "      <td>False</td>\n",
       "    </tr>\n",
       "    <tr>\n",
       "      <th>11175</th>\n",
       "      <td>50</td>\n",
       "      <td>1971</td>\n",
       "      <td>29</td>\n",
       "      <td>Head</td>\n",
       "      <td>3164.0</td>\n",
       "      <td>2000.0</td>\n",
       "      <td>31968.156250</td>\n",
       "      <td>28326.214844</td>\n",
       "      <td>3</td>\n",
       "      <td>1.0</td>\n",
       "      <td>...</td>\n",
       "      <td>31.0</td>\n",
       "      <td>1.0</td>\n",
       "      <td>2.0</td>\n",
       "      <td>12.0</td>\n",
       "      <td>12.0</td>\n",
       "      <td>0.247121</td>\n",
       "      <td>10.103716</td>\n",
       "      <td>True</td>\n",
       "      <td>False</td>\n",
       "      <td>False</td>\n",
       "    </tr>\n",
       "  </tbody>\n",
       "</table>\n",
       "<p>5 rows × 56 columns</p>\n",
       "</div>"
      ],
      "text/plain": [
       "       id68  year  intid relhh  hannhrs  wannhrs       hlabinc       wlabinc  \\\n",
       "11161   402  1971      1  Head   1523.0      0.0  62928.707031           NaN   \n",
       "11164   461  1971      4  Head   2010.0      0.0  22660.970703           NaN   \n",
       "11166  1126  1971      8  Head   2860.0      0.0  29337.865234           NaN   \n",
       "11173   284  1971     20  Head   2400.0      0.0  76885.437500           NaN   \n",
       "11175    50  1971     29  Head   3164.0   2000.0  31968.156250  28326.214844   \n",
       "\n",
       "       nochild  wrace  ...    wage  hpersno  wpersno  hyrsed  wyrsed  \\\n",
       "11161        0    1.0  ...    48.0      1.0      2.0    12.0    12.0   \n",
       "11164        0    1.0  ...    54.0      1.0      2.0     5.0     5.0   \n",
       "11166        1    NaN  ...    24.0      1.0      2.0    16.0    12.0   \n",
       "11173        2    1.0  ...    36.0      1.0      2.0    16.0    12.0   \n",
       "11175        3    1.0  ...    31.0      1.0      2.0    12.0    12.0   \n",
       "\n",
       "            pce      wperh  Black  Hispanic  Other  \n",
       "11161  0.247121  41.318916   True     False  False  \n",
       "11164  0.247121  11.274115   True     False  False  \n",
       "11166  0.247121  10.257995   True     False  False  \n",
       "11173  0.247121  32.035599   True     False  False  \n",
       "11175  0.247121  10.103716   True     False  False  \n",
       "\n",
       "[5 rows x 56 columns]"
      ]
     },
     "execution_count": 100,
     "metadata": {},
     "output_type": "execute_result"
    }
   ],
   "source": [
    "data1=data1[(data.age>=25)&(data.age<=60)&(data.hsex==1)&(data.wperh>7)&(data.wperh!=np.inf)]\n",
    "data1['Black']=(data1['hrace']==1)\n",
    "data1['Hispanic']=(data1['hrace']==5)\n",
    "data1['Other']=(data1['hrace']!=1)&(data1['hrace']!=5)\n",
    "data1.head(n=5)"
   ]
  },
  {
   "cell_type": "markdown",
   "metadata": {},
   "source": [
    "part 3"
   ]
  },
  {
   "cell_type": "code",
   "execution_count": 93,
   "metadata": {
    "collapsed": true
   },
   "outputs": [],
   "source": [
    "def myFunction(ceofs,data):\n",
    "    '''\n",
    "    educ = data1.hyrsed[(data1.year==i)]\n",
    "    age=data1.age[(data1.year==i)]\n",
    "    black=data1.Black[(data1.year==i)]\n",
    "    hispanic=data1.Hispanic[(data1.year==i)]\n",
    "    OtherRace=data1.Other[(data1.year==i)]\n",
    "    wage = data1.hlabinc[(data1.year==i)]\n",
    "    '''\n",
    "    true_y=np.log(data['wperh'])\n",
    "    y = ceofs[0] + ceofs[1] * data['hyrsed']  + ceofs[2] * data['age']\\\n",
    "    + ceofs[3] * data['Black']  \\\n",
    "    +ceofs[4] * data['Hispanic'] + ceofs[5] * data['Other']\n",
    "    \n",
    "    error = np.array([true_y-y])\n",
    "    \n",
    "  \n",
    "    l = -(len(y)/2)*np.log(2*np.pi)-len(y)*np.log(ceofs[6])-(1/(2*(ceofs[6]**2)))*((error*error).sum())\n",
    "\n",
    "    return -l"
   ]
  },
  {
   "cell_type": "code",
   "execution_count": 62,
   "metadata": {
    "collapsed": true
   },
   "outputs": [],
   "source": [
    "ceofs=[9.17377875,0.013818343,0.072323669,0,0,-0.149530086,0.5]\n",
    "bnds = ((-np.inf,np.inf),(-np.inf,np.inf),(-np.inf,np.inf),(-np.inf,np.inf),(-np.inf,np.inf),(-np.inf,np.inf),(0.00001,np.inf))"
   ]
  },
  {
   "cell_type": "code",
   "execution_count": 95,
   "metadata": {},
   "outputs": [
    {
     "data": {
      "text/plain": [
       "240849.97330695915"
      ]
     },
     "execution_count": 95,
     "metadata": {},
     "output_type": "execute_result"
    }
   ],
   "source": [
    "myFunction(ceofs,data1971)"
   ]
  },
  {
   "cell_type": "code",
   "execution_count": 104,
   "metadata": {},
   "outputs": [
    {
     "data": {
      "text/plain": [
       " final_simplex: (array([[  1.54511137e+00,   6.73468855e-02,   1.43558447e-02,\n",
       "          1.53077644e-03,   1.75750171e-03,  -1.05704762e-01,\n",
       "          4.10960948e-01],\n",
       "       [  1.54513153e+00,   6.73454290e-02,   1.43559015e-02,\n",
       "          1.53062141e-03,   1.75743711e-03,  -1.05717815e-01,\n",
       "          4.10970327e-01],\n",
       "       [  1.54503149e+00,   6.73502370e-02,   1.43567819e-02,\n",
       "          1.53010069e-03,   1.75704352e-03,  -1.05736682e-01,\n",
       "          4.10958950e-01],\n",
       "       [  1.54507339e+00,   6.73485352e-02,   1.43561395e-02,\n",
       "          1.53082963e-03,   1.75749511e-03,  -1.05697020e-01,\n",
       "          4.10959545e-01],\n",
       "       [  1.54517866e+00,   6.73436603e-02,   1.43552850e-02,\n",
       "          1.52952792e-03,   1.75691204e-03,  -1.05791325e-01,\n",
       "          4.10954329e-01],\n",
       "       [  1.54508040e+00,   6.73511391e-02,   1.43553282e-02,\n",
       "          1.53045178e-03,   1.75721741e-03,  -1.05713116e-01,\n",
       "          4.10969892e-01],\n",
       "       [  1.54503050e+00,   6.73482085e-02,   1.43574007e-02,\n",
       "          1.53073925e-03,   1.75742733e-03,  -1.05702221e-01,\n",
       "          4.10960422e-01],\n",
       "       [  1.54504699e+00,   6.73491819e-02,   1.43569324e-02,\n",
       "          1.53021643e-03,   1.75711360e-03,  -1.05731723e-01,\n",
       "          4.10962684e-01]]), array([ 731.01698738,  731.01699154,  731.01699327,  731.0169957 ,\n",
       "        731.01700564,  731.01700845,  731.017009  ,  731.01701204]))\n",
       "           fun: 731.01698737877246\n",
       "       message: 'Optimization terminated successfully.'\n",
       "          nfev: 896\n",
       "           nit: 566\n",
       "        status: 0\n",
       "       success: True\n",
       "             x: array([  1.54511137e+00,   6.73468855e-02,   1.43558447e-02,\n",
       "         1.53077644e-03,   1.75750171e-03,  -1.05704762e-01,\n",
       "         4.10960948e-01])"
      ]
     },
     "execution_count": 104,
     "metadata": {},
     "output_type": "execute_result"
    }
   ],
   "source": [
    "\n",
    "res1971 = minimize(myFunction,ceofs,args=data1971,method='Nelder-Mead')\n",
    "res1971\n",
    "\n",
    "\n"
   ]
  },
  {
   "cell_type": "code",
   "execution_count": 105,
   "metadata": {},
   "outputs": [
    {
     "name": "stderr",
     "output_type": "stream",
     "text": [
      "F:\\anaconda\\lib\\site-packages\\scipy\\optimize\\_minimize.py:394: RuntimeWarning: Method Nelder-Mead cannot handle constraints nor bounds.\n",
      "  RuntimeWarning)\n"
     ]
    },
    {
     "data": {
      "text/plain": [
       " final_simplex: (array([[ 1.59750536,  0.06787046,  0.01275911,  0.00905854,  0.00487833,\n",
       "        -0.06282099,  0.44949253],\n",
       "       [ 1.59747117,  0.06787349,  0.01275926,  0.00905901,  0.00487819,\n",
       "        -0.06284426,  0.44949058],\n",
       "       [ 1.59750011,  0.06787033,  0.01275924,  0.00905883,  0.00487792,\n",
       "        -0.06284039,  0.44949065],\n",
       "       [ 1.59745189,  0.06787428,  0.01275937,  0.00905882,  0.00487858,\n",
       "        -0.06283027,  0.44949191],\n",
       "       [ 1.59751761,  0.06787062,  0.0127588 ,  0.00905908,  0.00487766,\n",
       "        -0.06285337,  0.44948875],\n",
       "       [ 1.59747394,  0.06787271,  0.01275945,  0.00905892,  0.00487815,\n",
       "        -0.06284291,  0.4494924 ],\n",
       "       [ 1.59746118,  0.06787182,  0.01275992,  0.00905859,  0.00487852,\n",
       "        -0.06281854,  0.44948697],\n",
       "       [ 1.59744155,  0.06787452,  0.01275952,  0.00905891,  0.00487848,\n",
       "        -0.06283658,  0.44949166]]), array([ 1149.40266552,  1149.40267574,  1149.40268721,  1149.40268961,\n",
       "        1149.40269161,  1149.40269187,  1149.40269394,  1149.40269936]))\n",
       "           fun: 1149.4026655210187\n",
       "       message: 'Optimization terminated successfully.'\n",
       "          nfev: 1053\n",
       "           nit: 685\n",
       "        status: 0\n",
       "       success: True\n",
       "             x: array([ 1.59750536,  0.06787046,  0.01275911,  0.00905854,  0.00487833,\n",
       "       -0.06282099,  0.44949253])"
      ]
     },
     "execution_count": 105,
     "metadata": {},
     "output_type": "execute_result"
    }
   ],
   "source": [
    "res1980 = minimize(myFunction,ceofs,args=data1980,method='Nelder-Mead',bounds=bnds)\n",
    "res1980"
   ]
  },
  {
   "cell_type": "code",
   "execution_count": 106,
   "metadata": {},
   "outputs": [
    {
     "name": "stderr",
     "output_type": "stream",
     "text": [
      "F:\\anaconda\\lib\\site-packages\\scipy\\optimize\\_minimize.py:394: RuntimeWarning: Method Nelder-Mead cannot handle constraints nor bounds.\n",
      "  RuntimeWarning)\n"
     ]
    },
    {
     "data": {
      "text/plain": [
       " final_simplex: (array([[ 1.10326048,  0.09785149,  0.01350462,  0.00972281, -0.00263686,\n",
       "        -0.1378781 ,  0.48373297],\n",
       "       [ 1.10329838,  0.09784872,  0.01350446,  0.00972246, -0.00263662,\n",
       "        -0.13787146,  0.48373305],\n",
       "       [ 1.10328783,  0.09785007,  0.01350444,  0.00972288, -0.00263692,\n",
       "        -0.13789255,  0.48373317],\n",
       "       [ 1.10328388,  0.09785029,  0.01350446,  0.00972287, -0.00263691,\n",
       "        -0.13789085,  0.48373255],\n",
       "       [ 1.10326771,  0.09785079,  0.01350468,  0.00972273, -0.00263682,\n",
       "        -0.13787716,  0.48373488],\n",
       "       [ 1.1032527 ,  0.09785131,  0.01350492,  0.00972303, -0.00263704,\n",
       "        -0.13789672,  0.48373377],\n",
       "       [ 1.10326357,  0.09785091,  0.01350479,  0.00972287, -0.00263691,\n",
       "        -0.1378873 ,  0.48373149],\n",
       "       [ 1.10331392,  0.09784724,  0.0135048 ,  0.00972262, -0.00263677,\n",
       "        -0.13789493,  0.48373293]]), array([ 1394.51532552,  1394.51535241,  1394.51535819,  1394.51536145,\n",
       "        1394.51536465,  1394.51536545,  1394.51536708,  1394.51537208]))\n",
       "           fun: 1394.5153255237133\n",
       "       message: 'Optimization terminated successfully.'\n",
       "          nfev: 1019\n",
       "           nit: 638\n",
       "        status: 0\n",
       "       success: True\n",
       "             x: array([ 1.10326048,  0.09785149,  0.01350462,  0.00972281, -0.00263686,\n",
       "       -0.1378781 ,  0.48373297])"
      ]
     },
     "execution_count": 106,
     "metadata": {},
     "output_type": "execute_result"
    }
   ],
   "source": [
    "res1990 = minimize(myFunction,ceofs,args=data1990,method='Nelder-Mead',bounds=bnds)\n",
    "res1990"
   ]
  },
  {
   "cell_type": "code",
   "execution_count": 107,
   "metadata": {},
   "outputs": [
    {
     "name": "stderr",
     "output_type": "stream",
     "text": [
      "F:\\anaconda\\lib\\site-packages\\scipy\\optimize\\_minimize.py:394: RuntimeWarning: Method Nelder-Mead cannot handle constraints nor bounds.\n",
      "  RuntimeWarning)\n"
     ]
    },
    {
     "data": {
      "text/plain": [
       " final_simplex: (array([[  1.54511137e+00,   6.73468855e-02,   1.43558447e-02,\n",
       "          1.53077644e-03,   1.75750171e-03,  -1.05704762e-01,\n",
       "          4.10960948e-01],\n",
       "       [  1.54513153e+00,   6.73454290e-02,   1.43559015e-02,\n",
       "          1.53062141e-03,   1.75743711e-03,  -1.05717815e-01,\n",
       "          4.10970327e-01],\n",
       "       [  1.54503149e+00,   6.73502370e-02,   1.43567819e-02,\n",
       "          1.53010069e-03,   1.75704352e-03,  -1.05736682e-01,\n",
       "          4.10958950e-01],\n",
       "       [  1.54507339e+00,   6.73485352e-02,   1.43561395e-02,\n",
       "          1.53082963e-03,   1.75749511e-03,  -1.05697020e-01,\n",
       "          4.10959545e-01],\n",
       "       [  1.54517866e+00,   6.73436603e-02,   1.43552850e-02,\n",
       "          1.52952792e-03,   1.75691204e-03,  -1.05791325e-01,\n",
       "          4.10954329e-01],\n",
       "       [  1.54508040e+00,   6.73511391e-02,   1.43553282e-02,\n",
       "          1.53045178e-03,   1.75721741e-03,  -1.05713116e-01,\n",
       "          4.10969892e-01],\n",
       "       [  1.54503050e+00,   6.73482085e-02,   1.43574007e-02,\n",
       "          1.53073925e-03,   1.75742733e-03,  -1.05702221e-01,\n",
       "          4.10960422e-01],\n",
       "       [  1.54504699e+00,   6.73491819e-02,   1.43569324e-02,\n",
       "          1.53021643e-03,   1.75711360e-03,  -1.05731723e-01,\n",
       "          4.10962684e-01]]), array([ 731.01698738,  731.01699154,  731.01699327,  731.0169957 ,\n",
       "        731.01700564,  731.01700845,  731.017009  ,  731.01701204]))\n",
       "           fun: 731.01698737877246\n",
       "       message: 'Optimization terminated successfully.'\n",
       "          nfev: 896\n",
       "           nit: 566\n",
       "        status: 0\n",
       "       success: True\n",
       "             x: array([  1.54511137e+00,   6.73468855e-02,   1.43558447e-02,\n",
       "         1.53077644e-03,   1.75750171e-03,  -1.05704762e-01,\n",
       "         4.10960948e-01])"
      ]
     },
     "execution_count": 107,
     "metadata": {},
     "output_type": "execute_result"
    }
   ],
   "source": [
    "res2000 = minimize(myFunction,ceofs,args=data2000,method='Nelder-Mead',bounds=bnds)\n",
    "res2000"
   ]
  },
  {
   "cell_type": "code",
   "execution_count": 100,
   "metadata": {
    "collapsed": true
   },
   "outputs": [],
   "source": [
    "#Part 4"
   ]
  },
  {
   "cell_type": "markdown",
   "metadata": {},
   "source": [
    "Beta1 indicates the expected percentage incerase in y responsing to 1 unit increase in education. In the sample, beta1 increases from 1971 to 2000. It means that on average, one more year of education leads to more and more percentage change in wage. This means return of education increases over time. "
   ]
  },
  {
   "cell_type": "code",
   "execution_count": null,
   "metadata": {
    "collapsed": true
   },
   "outputs": [],
   "source": []
  }
 ],
 "metadata": {
  "kernelspec": {
   "display_name": "Python 3",
   "language": "python",
   "name": "python3"
  },
  "language_info": {
   "codemirror_mode": {
    "name": "ipython",
    "version": 3
   },
   "file_extension": ".py",
   "mimetype": "text/x-python",
   "name": "python",
   "nbconvert_exporter": "python",
   "pygments_lexer": "ipython3",
   "version": "3.6.1"
  }
 },
 "nbformat": 4,
 "nbformat_minor": 2
}
