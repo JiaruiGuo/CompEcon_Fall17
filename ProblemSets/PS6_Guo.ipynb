{
 "cells": [
  {
   "cell_type": "code",
   "execution_count": 17,
   "metadata": {},
   "outputs": [
    {
     "name": "stderr",
     "output_type": "stream",
     "text": [
      "Installing package into 'C:/Users/Jiarui/Documents/R/win-library/3.4'\n",
      "(as 'lib' is unspecified)\n"
     ]
    },
    {
     "name": "stdout",
     "output_type": "stream",
     "text": [
      "package 'stargazer' successfully unpacked and MD5 sums checked\n",
      "\n",
      "The downloaded binary packages are in\n",
      "\tC:\\Users\\Jiarui\\AppData\\Local\\Temp\\RtmpAziw4p\\downloaded_packages\n"
     ]
    }
   ],
   "source": [
    "# install.packages('haven',repos = \"http://cran.us.r-project.org\")\n",
    "# install.packages('plm',repos = \"http://cran.us.r-project.org\")\n",
    "# install.packages('stargazer',repos = \"http://cran.us.r-project.org\")"
   ]
  },
  {
   "cell_type": "code",
   "execution_count": 18,
   "metadata": {},
   "outputs": [
    {
     "name": "stderr",
     "output_type": "stream",
     "text": [
      "\n",
      "Please cite as: \n",
      "\n",
      " Hlavac, Marek (2015). stargazer: Well-Formatted Regression and Summary Statistics Tables.\n",
      " R package version 5.2. http://CRAN.R-project.org/package=stargazer \n",
      "\n"
     ]
    }
   ],
   "source": [
    "library('haven')\n",
    "library('plm')\n",
    "library('xtable')\n",
    "library('stargazer')"
   ]
  },
  {
   "cell_type": "code",
   "execution_count": 3,
   "metadata": {
    "collapsed": true
   },
   "outputs": [],
   "source": [
    "data<-read_dta('panel data analysis added control variable.dta')"
   ]
  },
  {
   "cell_type": "code",
   "execution_count": 4,
   "metadata": {
    "collapsed": true
   },
   "outputs": [],
   "source": [
    "linear_linear<-lm(data$changeinNext30daysVolatilit~data$changeinTotal+data$monthlychangeinVIX\n",
    "      +data$changeinimpl_volatility_averag)"
   ]
  },
  {
   "cell_type": "code",
   "execution_count": 5,
   "metadata": {},
   "outputs": [
    {
     "data": {
      "text/plain": [
       "\n",
       "Call:\n",
       "lm(formula = data$changeinNext30daysVolatilit ~ data$changeinTotal + \n",
       "    data$monthlychangeinVIX + data$changeinimpl_volatility_averag)\n",
       "\n",
       "Residuals:\n",
       "      Min        1Q    Median        3Q       Max \n",
       "-0.026452 -0.001926 -0.000030  0.001663  0.052787 \n",
       "\n",
       "Coefficients:\n",
       "                                      Estimate Std. Error t value Pr(>|t|)    \n",
       "(Intercept)                         -1.260e-04  9.617e-05  -1.310 0.190292    \n",
       "data$changeinTotal                  -1.666e-09  2.708e-10  -6.153 8.66e-10 ***\n",
       "data$monthlychangeinVIX             -9.476e-05  2.228e-05  -4.252 2.18e-05 ***\n",
       "data$changeinimpl_volatility_averag  6.281e-03  1.756e-03   3.577 0.000353 ***\n",
       "---\n",
       "Signif. codes:  0 '***' 0.001 '**' 0.01 '*' 0.05 '.' 0.1 ' ' 1\n",
       "\n",
       "Residual standard error: 0.005163 on 2882 degrees of freedom\n",
       "Multiple R-squared:  0.01938,\tAdjusted R-squared:  0.01836 \n",
       "F-statistic: 18.98 on 3 and 2882 DF,  p-value: 3.442e-12\n"
      ]
     },
     "metadata": {},
     "output_type": "display_data"
    }
   ],
   "source": [
    "summary(linear_linear)"
   ]
  },
  {
   "cell_type": "code",
   "execution_count": 24,
   "metadata": {},
   "outputs": [
    {
     "name": "stdout",
     "output_type": "stream",
     "text": [
      "% latex table generated in R 3.4.2 by xtable 1.8-2 package\n",
      "% Sun Oct 29 11:50:51 2017\n",
      "\\begin{table}[ht]\n",
      "\\centering\n",
      "\\begin{tabular}{rrrrr}\n",
      "  \\hline\n",
      " & Estimate & Std. Error & t value & Pr($>$$|$t$|$) \\\\ \n",
      "  \\hline\n",
      "(Intercept) & -0.0001 & 0.0001 & -1.31 & 0.1903 \\\\ \n",
      "  data\\$changeinTotal & -0.0000 & 0.0000 & -6.15 & 0.0000 \\\\ \n",
      "  data\\$monthlychangeinVIX & -0.0001 & 0.0000 & -4.25 & 0.0000 \\\\ \n",
      "  data\\$changeinimpl\\_volatility\\_averag & 0.0063 & 0.0018 & 3.58 & 0.0004 \\\\ \n",
      "   \\hline\n",
      "\\end{tabular}\n",
      "\\end{table}\n"
     ]
    }
   ],
   "source": [
    "print(xtable(linear_linear))"
   ]
  },
  {
   "cell_type": "code",
   "execution_count": 28,
   "metadata": {},
   "outputs": [
    {
     "data": {
      "text/plain": [
       "\n",
       "Call:\n",
       "lm(formula = data$changeinNext30daysVolatilit ~ data$ln_delta_30_total + \n",
       "    data$monthlychangeinVIX + data$changeinimpl_volatility_averag)\n",
       "\n",
       "Residuals:\n",
       "      Min        1Q    Median        3Q       Max \n",
       "-0.027013 -0.001890 -0.000028  0.001601  0.052134 \n",
       "\n",
       "Coefficients:\n",
       "                                      Estimate Std. Error t value Pr(>|t|)    \n",
       "(Intercept)                          9.890e-05  3.584e-04   0.276  0.78260    \n",
       "data$ln_delta_30_total              -2.680e-05  4.244e-05  -0.632  0.52771    \n",
       "data$monthlychangeinVIX             -9.808e-05  2.245e-05  -4.368  1.3e-05 ***\n",
       "data$changeinimpl_volatility_averag  5.218e-03  1.759e-03   2.966  0.00304 ** \n",
       "---\n",
       "Signif. codes:  0 '***' 0.001 '**' 0.01 '*' 0.05 '.' 0.1 ' ' 1\n",
       "\n",
       "Residual standard error: 0.005198 on 2879 degrees of freedom\n",
       "  (3 observations deleted due to missingness)\n",
       "Multiple R-squared:  0.006657,\tAdjusted R-squared:  0.005622 \n",
       "F-statistic: 6.432 on 3 and 2879 DF,  p-value: 0.0002446\n"
      ]
     },
     "metadata": {},
     "output_type": "display_data"
    }
   ],
   "source": [
    "linear_log<-lm(data$changeinNext30daysVolatilit~data$ln_delta_30_total+data$monthlychangeinVIX\n",
    "      +data$changeinimpl_volatility_averag)\n",
    "summary(linear_log)"
   ]
  },
  {
   "cell_type": "code",
   "execution_count": 25,
   "metadata": {},
   "outputs": [
    {
     "name": "stdout",
     "output_type": "stream",
     "text": [
      "% latex table generated in R 3.4.2 by xtable 1.8-2 package\n",
      "% Sun Oct 29 11:55:14 2017\n",
      "\\begin{table}[ht]\n",
      "\\centering\n",
      "\\begin{tabular}{rrrrr}\n",
      "  \\hline\n",
      " & Estimate & Std. Error & t value & Pr($>$$|$t$|$) \\\\ \n",
      "  \\hline\n",
      "(Intercept) & 0.0001 & 0.0004 & 0.28 & 0.7826 \\\\ \n",
      "  data\\$ln\\_delta\\_30\\_total & -0.0000 & 0.0000 & -0.63 & 0.5277 \\\\ \n",
      "  data\\$monthlychangeinVIX & -0.0001 & 0.0000 & -4.37 & 0.0000 \\\\ \n",
      "  data\\$changeinimpl\\_volatility\\_averag & 0.0052 & 0.0018 & 2.97 & 0.0030 \\\\ \n",
      "   \\hline\n",
      "\\end{tabular}\n",
      "\\end{table}\n"
     ]
    }
   ],
   "source": [
    "print(xtable(linear_log))"
   ]
  },
  {
   "cell_type": "code",
   "execution_count": 20,
   "metadata": {},
   "outputs": [],
   "source": [
    "p_data<-plm.data(data,indexes = c('id','date'))\n",
    "attach(p_data)"
   ]
  },
  {
   "cell_type": "code",
   "execution_count": 21,
   "metadata": {
    "collapsed": true
   },
   "outputs": [],
   "source": [
    "panel_linear<-plm(changeinNext30daysVolatilit~changeinTotal+monthlychangeinVIX\n",
    "      +changeinimpl_volatility_averag,data=p_data,model=\"within\")"
   ]
  },
  {
   "cell_type": "code",
   "execution_count": 22,
   "metadata": {},
   "outputs": [
    {
     "data": {
      "text/plain": [
       "Oneway (individual) effect Within Model\n",
       "\n",
       "Call:\n",
       "plm(formula = changeinNext30daysVolatilit ~ changeinTotal + monthlychangeinVIX + \n",
       "    changeinimpl_volatility_averag, data = p_data, model = \"within\")\n",
       "\n",
       "Unbalanced Panel: n=49, T=1-108, N=2886\n",
       "\n",
       "Residuals :\n",
       "       Min.     1st Qu.      Median     3rd Qu.        Max. \n",
       "-2.6438e-02 -1.9320e-03 -3.3861e-05  1.6301e-03  5.2610e-02 \n",
       "\n",
       "Coefficients :\n",
       "                                  Estimate  Std. Error t-value  Pr(>|t|)    \n",
       "changeinTotal                  -1.6868e-09  2.7471e-10 -6.1403 9.387e-10 ***\n",
       "monthlychangeinVIX             -9.4932e-05  2.2467e-05 -4.2255 2.459e-05 ***\n",
       "changeinimpl_volatility_averag  6.2777e-03  1.7699e-03  3.5469 0.0003961 ***\n",
       "---\n",
       "Signif. codes:  0 '***' 0.001 '**' 0.01 '*' 0.05 '.' 0.1 ' ' 1\n",
       "\n",
       "Total Sum of Squares:    0.07814\n",
       "Residual Sum of Squares: 0.076611\n",
       "R-Squared:      0.019571\n",
       "Adj. R-Squared: 0.0019274\n",
       "F-statistic: 18.8571 on 3 and 2834 DF, p-value: 4.1517e-12"
      ]
     },
     "metadata": {},
     "output_type": "display_data"
    }
   ],
   "source": [
    "summary(panel_linear)"
   ]
  },
  {
   "cell_type": "code",
   "execution_count": 27,
   "metadata": {},
   "outputs": [
    {
     "name": "stdout",
     "output_type": "stream",
     "text": [
      "\n",
      "% Table created by stargazer v.5.2 by Marek Hlavac, Harvard University. E-mail: hlavac at fas.harvard.edu\n",
      "% Date and time: Sun, Oct 29, 2017 - 12:07:49 PM\n",
      "% Requires LaTeX packages: dcolumn \n",
      "\\begin{table}[!htbp] \\centering \n",
      "  \\caption{Regression Results} \n",
      "  \\label{} \n",
      "\\begin{tabular}{@{\\extracolsep{5pt}}lD{.}{.}{-3} } \n",
      "\\\\[-1.8ex]\\hline \n",
      "\\hline \\\\[-1.8ex] \n",
      " & \\multicolumn{1}{c}{\\textit{Dependent variable:}} \\\\ \n",
      "\\cline{2-2} \n",
      "\\\\[-1.8ex] & \\multicolumn{1}{c}{changeinNext30daysVolatilit} \\\\ \n",
      "\\hline \\\\[-1.8ex] \n",
      " changeinTotal & -0.000^{***} \\\\ \n",
      "  & (0.000) \\\\ \n",
      "  & \\\\ \n",
      " monthlychangeinVIX & -0.0001^{***} \\\\ \n",
      "  & (0.00002) \\\\ \n",
      "  & \\\\ \n",
      " changeinimpl\\_volatility\\_averag & 0.006^{***} \\\\ \n",
      "  & (0.002) \\\\ \n",
      "  & \\\\ \n",
      "\\hline \\\\[-1.8ex] \n",
      "Observations & \\multicolumn{1}{c}{2,886} \\\\ \n",
      "R$^{2}$ & \\multicolumn{1}{c}{0.020} \\\\ \n",
      "Adjusted R$^{2}$ & \\multicolumn{1}{c}{0.002} \\\\ \n",
      "F Statistic & \\multicolumn{1}{c}{18.857$^{***}$ (df = 3; 2834)} \\\\ \n",
      "\\hline \n",
      "\\hline \\\\[-1.8ex] \n",
      "\\textit{Note:}  & \\multicolumn{1}{r}{$^{*}$p$<$0.1; $^{**}$p$<$0.05; $^{***}$p$<$0.01} \\\\ \n",
      "\\end{tabular} \n",
      "\\end{table} \n"
     ]
    }
   ],
   "source": [
    "stargazer( panel_linear, title=\"Regression Results\", align=TRUE)"
   ]
  },
  {
   "cell_type": "code",
   "execution_count": null,
   "metadata": {
    "collapsed": true
   },
   "outputs": [],
   "source": []
  }
 ],
 "metadata": {
  "kernelspec": {
   "display_name": "R",
   "language": "R",
   "name": "ir"
  },
  "language_info": {
   "codemirror_mode": "r",
   "file_extension": ".r",
   "mimetype": "text/x-r-source",
   "name": "R",
   "pygments_lexer": "r",
   "version": "3.4.2"
  }
 },
 "nbformat": 4,
 "nbformat_minor": 2
}
